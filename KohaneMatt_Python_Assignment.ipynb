{
 "cells": [
  {
   "cell_type": "markdown",
   "metadata": {},
   "source": [
    "# Initial Imports"
   ]
  },
  {
   "cell_type": "code",
   "execution_count": 185,
   "metadata": {},
   "outputs": [],
   "source": [
    "import Bio\n",
    "from Bio import SeqIO\n",
    "from Bio.Data import CodonTable\n",
    "from Bio.Seq import Seq\n",
    "from Bio.Alphabet import IUPAC\n",
    "import pandas as pd\n",
    "import seaborn as sns"
   ]
  },
  {
   "cell_type": "markdown",
   "metadata": {},
   "source": [
    "## #1 ##"
   ]
  },
  {
   "cell_type": "code",
   "execution_count": 22,
   "metadata": {},
   "outputs": [],
   "source": [
    "## Dr. X: this gets sequences \n",
    "## Please properly document this function in the Jupyter notebook \n",
    "## Your descriptions of all functions should contain information about what the function does,\n",
    "## as well as information about the return types and arguments.\n",
    "\n",
    "def get_sequences_from_file(fasta_fn):\n",
    "    sequence_data_dict = {}\n",
    "    for record in SeqIO.parse(fasta_fn, \"fasta\"):\n",
    "        description = record.description.split()\n",
    "        species_name = description[1] + \" \" + description[2]\n",
    "        sequence_data_dict[species_name] = record.seq\n",
    "    return(sequence_data_dict)\n",
    "#print(sequence_data_dict)\n"
   ]
  },
  {
   "cell_type": "markdown",
   "metadata": {},
   "source": [
    "## #2 ##"
   ]
  },
  {
   "cell_type": "code",
   "execution_count": 139,
   "metadata": {},
   "outputs": [],
   "source": [
    "##Description: translates a string of nucleotides into the respective \n",
    "##Amino acid sequence\n",
    "##Parameters: string_nucleotides or the string of DNA to be analysed\n",
    "##Return: the translated amino acid sequence\n",
    "\n",
    "def translate_function(string_nucleotides):\n",
    "    mito_table = CodonTable.unambiguous_dna_by_name[\"Vertebrate Mitochondrial\"]\n",
    "    aminoReturn = \"\"\n",
    "    nuc_string = str(string_nucleotides)\n",
    "    stop_codons = [\"TAA\", \"TAG\", \"AGA\", \"AGG\"]\n",
    "    #print(nuc_string)\n",
    "    \n",
    "    for seq in range(0, len(nuc_string))[::3]:\n",
    "        codon = nuc_string[seq:seq+3]\n",
    "        if codon in stop_codons:\n",
    "            break\n",
    "            \n",
    "        aminoacid = mito_table.forward_table[codon]\n",
    "        aminoReturn = aminoReturn + aminoacid\n",
    "    aa_seq = Seq(aminoReturn)\n",
    "    aa_seq.alphabet=IUPAC.protein\n",
    "    return(aa_seq)"
   ]
  },
  {
   "cell_type": "code",
   "execution_count": 99,
   "metadata": {},
   "outputs": [
    {
     "name": "stdout",
     "output_type": "stream",
     "text": [
      "Table 2 Vertebrate Mitochondrial, SGC1\n",
      "\n",
      "  |  T      |  C      |  A      |  G      |\n",
      "--+---------+---------+---------+---------+--\n",
      "T | TTT F   | TCT S   | TAT Y   | TGT C   | T\n",
      "T | TTC F   | TCC S   | TAC Y   | TGC C   | C\n",
      "T | TTA L   | TCA S   | TAA Stop| TGA W   | A\n",
      "T | TTG L   | TCG S   | TAG Stop| TGG W   | G\n",
      "--+---------+---------+---------+---------+--\n",
      "C | CTT L   | CCT P   | CAT H   | CGT R   | T\n",
      "C | CTC L   | CCC P   | CAC H   | CGC R   | C\n",
      "C | CTA L   | CCA P   | CAA Q   | CGA R   | A\n",
      "C | CTG L   | CCG P   | CAG Q   | CGG R   | G\n",
      "--+---------+---------+---------+---------+--\n",
      "A | ATT I(s)| ACT T   | AAT N   | AGT S   | T\n",
      "A | ATC I(s)| ACC T   | AAC N   | AGC S   | C\n",
      "A | ATA M(s)| ACA T   | AAA K   | AGA Stop| A\n",
      "A | ATG M(s)| ACG T   | AAG K   | AGG Stop| G\n",
      "--+---------+---------+---------+---------+--\n",
      "G | GTT V   | GCT A   | GAT D   | GGT G   | T\n",
      "G | GTC V   | GCC A   | GAC D   | GGC G   | C\n",
      "G | GTA V   | GCA A   | GAA E   | GGA G   | A\n",
      "G | GTG V(s)| GCG A   | GAG E   | GGG G   | G\n",
      "--+---------+---------+---------+---------+--\n"
     ]
    }
   ],
   "source": [
    "print(mito_table)\n",
    "##Printing the mito_table object returns a codon table with respective \n",
    "##amino acids given the three amino acid sequence for \n",
    "##vertebreate Mitochondrial DNA.\n"
   ]
  },
  {
   "cell_type": "code",
   "execution_count": 66,
   "metadata": {},
   "outputs": [
    {
     "data": {
      "text/plain": [
       "'K'"
      ]
     },
     "execution_count": 66,
     "metadata": {},
     "output_type": "execute_result"
    }
   ],
   "source": [
    "mito_table.forward_table[\"AAA\"]\n",
    "##Calling this function on the mito_table object determines the respective\n",
    "##amino acid, in this case \"AAA\" results in Lysine (K) "
   ]
  },
  {
   "cell_type": "code",
   "execution_count": 161,
   "metadata": {},
   "outputs": [
    {
     "data": {
      "text/plain": [
       "Seq('MAIVMGRWKGAR', IUPACProtein())"
      ]
     },
     "execution_count": 161,
     "metadata": {},
     "output_type": "execute_result"
    }
   ],
   "source": [
    "test = Seq('ATGGCCATTGTAATGGGCCGCTGAAAGGGTGCCCGATAG')\n",
    "translate_function(test)\n"
   ]
  },
  {
   "cell_type": "markdown",
   "metadata": {},
   "source": [
    "---------------------------------\n",
    "## #3 ##\n",
    "# Alternate Function"
   ]
  },
  {
   "cell_type": "code",
   "execution_count": 198,
   "metadata": {},
   "outputs": [],
   "source": [
    "##Description: translates a string of DNA nucleotides into the respective\n",
    "##protein sequence\n",
    "##Parameters: string_nucleotides or the nucleotide sequence used for analysis\n",
    "##Return: translated protein sequence from the nucleotide sequence\n",
    "\n",
    "def translate_two(string_nucleotides):\n",
    "    nuc_string = Seq(str(string_nucleotides), IUPAC.unambiguous_dna)\n",
    "    prot_string = nuc_string.translate(to_stop = True, table=\"Vertebrate Mitochondrial\")\n",
    "    return(prot_string)\n"
   ]
  },
  {
   "cell_type": "code",
   "execution_count": 197,
   "metadata": {},
   "outputs": [
    {
     "data": {
      "text/plain": [
       "Seq('MAIVMGRWKGAR', IUPACProtein())"
      ]
     },
     "execution_count": 197,
     "metadata": {},
     "output_type": "execute_result"
    }
   ],
   "source": [
    "translate_two(test)"
   ]
  },
  {
   "cell_type": "markdown",
   "metadata": {},
   "source": [
    "---------------------------------\n",
    "## #4 ##\n",
    "# Count AA Analysis Function"
   ]
  },
  {
   "cell_type": "code",
   "execution_count": 75,
   "metadata": {},
   "outputs": [],
   "source": [
    "##Function that calculates the molecular weight \n",
    "##of each amino acid sequence"
   ]
  },
  {
   "cell_type": "code",
   "execution_count": 74,
   "metadata": {},
   "outputs": [],
   "source": [
    "from Bio.SeqUtils.ProtParam import ProteinAnalysis"
   ]
  },
  {
   "cell_type": "code",
   "execution_count": 136,
   "metadata": {},
   "outputs": [],
   "source": [
    "##Description: Computes molecular weight\n",
    "##Parameters: aa_seq or the string of Amino acids to use\n",
    "##Return: the computed molecular weight of the Amino acid string sequence\n",
    "\n",
    "def compute_molecular_weight(aa_seq):\n",
    "    string = str(aa_seq)\n",
    "    protSeq = ProteinAnalysis(string)\n",
    "    return(protSeq.molecular_weight())"
   ]
  },
  {
   "cell_type": "code",
   "execution_count": 160,
   "metadata": {},
   "outputs": [
    {
     "data": {
      "text/plain": [
       "17103.1617"
      ]
     },
     "execution_count": 160,
     "metadata": {},
     "output_type": "execute_result"
    }
   ],
   "source": [
    "##Using the the Biopython reference, \n",
    "\n",
    "my_seq = \"MAEGEITTFTALTEKFNLPPGNYKKPKLLYCSNGGHFLRILPDGTVDGTRDRSDQHIQLQLSAESVGEVYIKSTETGQYLAMDTSGLLYGSQTPSEECLFLERLEENHYNTYTSKKHAEKNWFVGLKKNGSCKRGPRTHYGQKAILFLPLPV\"\n",
    "compute_molecular_weight(my_seq)"
   ]
  },
  {
   "cell_type": "markdown",
   "metadata": {},
   "source": [
    "---------------------------------\n",
    "## #5 ##\n",
    "# GC Content Analysis Function"
   ]
  },
  {
   "cell_type": "code",
   "execution_count": 162,
   "metadata": {},
   "outputs": [],
   "source": [
    "##Description: Computes the GC content of a string of nucleotides\n",
    "##Parameters: string_nucleotides or the string of DNA to be analysed\n",
    "##Return: the GC content of the string of nucleotides\n",
    "\n",
    "\n",
    "def compute_gc_content(string_nucleotides):\n",
    "    gcContent = 100*(string_nucleotides.count(\"G\") + string_nucleotides.count(\"C\"))/len(string_nucleotides)\n",
    "    return(gcContent)"
   ]
  },
  {
   "cell_type": "code",
   "execution_count": 153,
   "metadata": {},
   "outputs": [
    {
     "data": {
      "text/plain": [
       "64.51612903225806"
      ]
     },
     "execution_count": 153,
     "metadata": {},
     "output_type": "execute_result"
    }
   ],
   "source": [
    "compute_gc_content(\"ACGTACGTACGTACGTACGTACGTACGTG\")\n",
    "compute_gc_content(\"ATCGAGTGAGCGTGTGACGCGAAGCGTGCGC\")\n",
    "##Function appears to be working correctly."
   ]
  },
  {
   "cell_type": "markdown",
   "metadata": {},
   "source": [
    "------------------------\n",
    "## Main"
   ]
  },
  {
   "cell_type": "code",
   "execution_count": 81,
   "metadata": {},
   "outputs": [],
   "source": [
    "cytb_seqs = get_sequences_from_file(\"penguins_cytb.fasta\")"
   ]
  },
  {
   "cell_type": "code",
   "execution_count": 82,
   "metadata": {},
   "outputs": [],
   "source": [
    "penguins_df = pd.read_csv(\"penguins_mass.csv\") # Includes only data for body data\n",
    "species_list = list(penguins_df.species)"
   ]
  },
  {
   "cell_type": "markdown",
   "metadata": {},
   "source": [
    "---------------------------------\n",
    "## #6 ##"
   ]
  },
  {
   "cell_type": "code",
   "execution_count": 125,
   "metadata": {
    "scrolled": true
   },
   "outputs": [
    {
     "name": "stdout",
     "output_type": "stream",
     "text": [
      "species\n",
      "mass\n",
      "Molecular Weight\n",
      "GC Content (%)\n",
      "ATGGCCCCCAACCTCCGAAAATCCCACCCTCTCCTAAAAACAATCAACAACTCCCTAATCGACCTGCCCACCCCATCAAACATTTCCGCCTGATGAAACTTTGGATCTCTCCTAGGCATCTGCTTAGCCACACAAATCCTAACTGGCCTCCTACTAGCTGCCCACTATACTGCAGACACAACCCTAGCCTTCTCATCCGTCGCCCACATATGCCGAAACGTACAATACGGCTGACTAATCCGCAACTTACATGCAAACGGAGCCTCATTCTTCTTTATCTGTATCTACCTGCATATCGGCCGCGGACTCTACTACGGCTCCTACCTATACAAAGAAACCTGAAACACAGGCATCATCCTCCTACTTACCCTCATAGCAACCGCCTTCGTAGGCTACGTCCTACCATGAGGCCAGATATCCTTTTGAGGAGCCACAGTCATTACTAACCTATTCTCAGCTATCCCTTACATTGGCCAAACTCTCGTAGAATGAGCTTGAGGCGGCTTCTCAGTAGACAACCCCACTCTAACTCGATTCTTCGCACTACACTTCCTTCTCCCCTTCATAATCACAGGCCTCACCCTCATCCACCTCACCTTCCTCCACGAATCAGGCTCAAACAATCCACTAGGTATCGTAGCCAACTCCGACAAAATCCCATTCCACCCCTACTACTCCACAAAAGATATTCTAGGATTTATACTCCTACTCCTTCCACTAACAACCTTAGCCCTATTCTCACCCAACCTATTAGGAGACCCAGAAAACTTCACCCCAGCAAACCCCCTAGTCACACCCCCACACATTAAACCAGAATGATACTTCCTATTTGCCTACGCCATCCTACGCTCAATCCCCAACAAACTAGGAGGAGTCCTAGCCCTAGCAGCATCCGTACTAATCCTATTCCTAATACCCCTCCTCCACAAATCTAAACAGCGCACAATAGCCTTCCGTCCACTCTCCCAACTCCTATTCTGAACCCTAGTAGCCAACCTCATTATCCTAACGTGAGTTGGCAGCCAACCAGTAGAACATCCCTTCATTATCATCGGTCAATTAGCCTCCTTCACCTACTTCACCACCCTCCTAATTCTCTTTCCCCTTGCCGGAGCCCTAGAAAACAAAATACTCAATCACTAA\n"
     ]
    }
   ],
   "source": [
    "## Printing the key in the data frame to see what they are \n",
    "\n",
    "for key in penguins_df:\n",
    "    print(key)\n",
    "    \n",
    "##Printing the value, which corresponds to the nucleotide sequence    \n",
    "print(value)"
   ]
  },
  {
   "cell_type": "code",
   "execution_count": 199,
   "metadata": {},
   "outputs": [
    {
     "data": {
      "text/html": [
       "<div>\n",
       "<style scoped>\n",
       "    .dataframe tbody tr th:only-of-type {\n",
       "        vertical-align: middle;\n",
       "    }\n",
       "\n",
       "    .dataframe tbody tr th {\n",
       "        vertical-align: top;\n",
       "    }\n",
       "\n",
       "    .dataframe thead th {\n",
       "        text-align: right;\n",
       "    }\n",
       "</style>\n",
       "<table border=\"1\" class=\"dataframe\">\n",
       "  <thead>\n",
       "    <tr style=\"text-align: right;\">\n",
       "      <th></th>\n",
       "      <th>species</th>\n",
       "      <th>mass</th>\n",
       "      <th>Molecular Weight</th>\n",
       "      <th>GC Content (%)</th>\n",
       "    </tr>\n",
       "  </thead>\n",
       "  <tbody>\n",
       "    <tr>\n",
       "      <th>0</th>\n",
       "      <td>Aptenodytes forsteri</td>\n",
       "      <td>28.00</td>\n",
       "      <td>NaN</td>\n",
       "      <td>NaN</td>\n",
       "    </tr>\n",
       "    <tr>\n",
       "      <th>1</th>\n",
       "      <td>Aptenodytes patagonicus</td>\n",
       "      <td>13.40</td>\n",
       "      <td>NaN</td>\n",
       "      <td>NaN</td>\n",
       "    </tr>\n",
       "    <tr>\n",
       "      <th>2</th>\n",
       "      <td>Eudyptes chrysocome</td>\n",
       "      <td>2.80</td>\n",
       "      <td>NaN</td>\n",
       "      <td>NaN</td>\n",
       "    </tr>\n",
       "    <tr>\n",
       "      <th>3</th>\n",
       "      <td>Eudyptes chrysolophus</td>\n",
       "      <td>4.50</td>\n",
       "      <td>NaN</td>\n",
       "      <td>NaN</td>\n",
       "    </tr>\n",
       "    <tr>\n",
       "      <th>4</th>\n",
       "      <td>Eudyptes sclateri</td>\n",
       "      <td>4.25</td>\n",
       "      <td>NaN</td>\n",
       "      <td>NaN</td>\n",
       "    </tr>\n",
       "    <tr>\n",
       "      <th>5</th>\n",
       "      <td>Eudyptula minor</td>\n",
       "      <td>1.60</td>\n",
       "      <td>NaN</td>\n",
       "      <td>NaN</td>\n",
       "    </tr>\n",
       "    <tr>\n",
       "      <th>6</th>\n",
       "      <td>Pygoscelis adeliae</td>\n",
       "      <td>4.60</td>\n",
       "      <td>NaN</td>\n",
       "      <td>NaN</td>\n",
       "    </tr>\n",
       "    <tr>\n",
       "      <th>7</th>\n",
       "      <td>Pygoscelis antarctica</td>\n",
       "      <td>4.10</td>\n",
       "      <td>NaN</td>\n",
       "      <td>NaN</td>\n",
       "    </tr>\n",
       "    <tr>\n",
       "      <th>8</th>\n",
       "      <td>Pygoscelis papua</td>\n",
       "      <td>6.10</td>\n",
       "      <td>NaN</td>\n",
       "      <td>NaN</td>\n",
       "    </tr>\n",
       "    <tr>\n",
       "      <th>9</th>\n",
       "      <td>Spheniscus demersus</td>\n",
       "      <td>3.20</td>\n",
       "      <td>NaN</td>\n",
       "      <td>NaN</td>\n",
       "    </tr>\n",
       "    <tr>\n",
       "      <th>10</th>\n",
       "      <td>Spheniscus humboldti</td>\n",
       "      <td>4.75</td>\n",
       "      <td>NaN</td>\n",
       "      <td>NaN</td>\n",
       "    </tr>\n",
       "    <tr>\n",
       "      <th>11</th>\n",
       "      <td>Spheniscus magellanicus</td>\n",
       "      <td>3.40</td>\n",
       "      <td>NaN</td>\n",
       "      <td>NaN</td>\n",
       "    </tr>\n",
       "  </tbody>\n",
       "</table>\n",
       "</div>"
      ],
      "text/plain": [
       "                    species   mass Molecular Weight GC Content (%)\n",
       "0      Aptenodytes forsteri  28.00              NaN            NaN\n",
       "1   Aptenodytes patagonicus  13.40              NaN            NaN\n",
       "2       Eudyptes chrysocome   2.80              NaN            NaN\n",
       "3     Eudyptes chrysolophus   4.50              NaN            NaN\n",
       "4         Eudyptes sclateri   4.25              NaN            NaN\n",
       "5           Eudyptula minor   1.60              NaN            NaN\n",
       "6        Pygoscelis adeliae   4.60              NaN            NaN\n",
       "7     Pygoscelis antarctica   4.10              NaN            NaN\n",
       "8          Pygoscelis papua   6.10              NaN            NaN\n",
       "9       Spheniscus demersus   3.20              NaN            NaN\n",
       "10     Spheniscus humboldti   4.75              NaN            NaN\n",
       "11  Spheniscus magellanicus   3.40              NaN            NaN"
      ]
     },
     "execution_count": 199,
     "metadata": {},
     "output_type": "execute_result"
    }
   ],
   "source": [
    "##Adding columns initially with 'NaN' values to the penguins_df data frame\n",
    "penguins_df[\"Molecular Weight\"] = 'NaN'\n",
    "penguins_df[\"GC Content (%)\"] = 'NaN'\n",
    "penguins_df\n",
    "##Columns have been successfully added"
   ]
  },
  {
   "cell_type": "markdown",
   "metadata": {},
   "source": [
    "---------------------------------\n",
    "## #7 ##"
   ]
  },
  {
   "cell_type": "code",
   "execution_count": 190,
   "metadata": {
    "scrolled": true
   },
   "outputs": [
    {
     "data": {
      "text/html": [
       "<div>\n",
       "<style scoped>\n",
       "    .dataframe tbody tr th:only-of-type {\n",
       "        vertical-align: middle;\n",
       "    }\n",
       "\n",
       "    .dataframe tbody tr th {\n",
       "        vertical-align: top;\n",
       "    }\n",
       "\n",
       "    .dataframe thead th {\n",
       "        text-align: right;\n",
       "    }\n",
       "</style>\n",
       "<table border=\"1\" class=\"dataframe\">\n",
       "  <thead>\n",
       "    <tr style=\"text-align: right;\">\n",
       "      <th></th>\n",
       "      <th>species</th>\n",
       "      <th>mass</th>\n",
       "      <th>Molecular Weight</th>\n",
       "      <th>GC Content (%)</th>\n",
       "    </tr>\n",
       "  </thead>\n",
       "  <tbody>\n",
       "    <tr>\n",
       "      <th>0</th>\n",
       "      <td>Aptenodytes forsteri</td>\n",
       "      <td>28.00</td>\n",
       "      <td>42459.6</td>\n",
       "      <td>48.3815</td>\n",
       "    </tr>\n",
       "    <tr>\n",
       "      <th>1</th>\n",
       "      <td>Aptenodytes patagonicus</td>\n",
       "      <td>13.40</td>\n",
       "      <td>42563.7</td>\n",
       "      <td>49.6938</td>\n",
       "    </tr>\n",
       "    <tr>\n",
       "      <th>2</th>\n",
       "      <td>Eudyptes chrysocome</td>\n",
       "      <td>2.80</td>\n",
       "      <td>42475.6</td>\n",
       "      <td>51.1811</td>\n",
       "    </tr>\n",
       "    <tr>\n",
       "      <th>3</th>\n",
       "      <td>Eudyptes chrysolophus</td>\n",
       "      <td>4.50</td>\n",
       "      <td>42445.5</td>\n",
       "      <td>50.9186</td>\n",
       "    </tr>\n",
       "    <tr>\n",
       "      <th>4</th>\n",
       "      <td>Eudyptes sclateri</td>\n",
       "      <td>4.25</td>\n",
       "      <td>42475.6</td>\n",
       "      <td>50.8311</td>\n",
       "    </tr>\n",
       "    <tr>\n",
       "      <th>5</th>\n",
       "      <td>Eudyptula minor</td>\n",
       "      <td>1.60</td>\n",
       "      <td>42491.6</td>\n",
       "      <td>49.2563</td>\n",
       "    </tr>\n",
       "    <tr>\n",
       "      <th>6</th>\n",
       "      <td>Pygoscelis adeliae</td>\n",
       "      <td>4.60</td>\n",
       "      <td>42458.6</td>\n",
       "      <td>49.0814</td>\n",
       "    </tr>\n",
       "    <tr>\n",
       "      <th>7</th>\n",
       "      <td>Pygoscelis antarctica</td>\n",
       "      <td>4.10</td>\n",
       "      <td>42404.5</td>\n",
       "      <td>47.769</td>\n",
       "    </tr>\n",
       "    <tr>\n",
       "      <th>8</th>\n",
       "      <td>Pygoscelis papua</td>\n",
       "      <td>6.10</td>\n",
       "      <td>42595.9</td>\n",
       "      <td>47.1566</td>\n",
       "    </tr>\n",
       "    <tr>\n",
       "      <th>9</th>\n",
       "      <td>Spheniscus demersus</td>\n",
       "      <td>3.20</td>\n",
       "      <td>42431.5</td>\n",
       "      <td>48.294</td>\n",
       "    </tr>\n",
       "    <tr>\n",
       "      <th>10</th>\n",
       "      <td>Spheniscus humboldti</td>\n",
       "      <td>4.75</td>\n",
       "      <td>42399.6</td>\n",
       "      <td>49.2563</td>\n",
       "    </tr>\n",
       "    <tr>\n",
       "      <th>11</th>\n",
       "      <td>Spheniscus magellanicus</td>\n",
       "      <td>3.40</td>\n",
       "      <td>42459.6</td>\n",
       "      <td>48.2065</td>\n",
       "    </tr>\n",
       "  </tbody>\n",
       "</table>\n",
       "</div>"
      ],
      "text/plain": [
       "                    species   mass Molecular Weight GC Content (%)\n",
       "0      Aptenodytes forsteri  28.00          42459.6        48.3815\n",
       "1   Aptenodytes patagonicus  13.40          42563.7        49.6938\n",
       "2       Eudyptes chrysocome   2.80          42475.6        51.1811\n",
       "3     Eudyptes chrysolophus   4.50          42445.5        50.9186\n",
       "4         Eudyptes sclateri   4.25          42475.6        50.8311\n",
       "5           Eudyptula minor   1.60          42491.6        49.2563\n",
       "6        Pygoscelis adeliae   4.60          42458.6        49.0814\n",
       "7     Pygoscelis antarctica   4.10          42404.5         47.769\n",
       "8          Pygoscelis papua   6.10          42595.9        47.1566\n",
       "9       Spheniscus demersus   3.20          42431.5         48.294\n",
       "10     Spheniscus humboldti   4.75          42399.6        49.2563\n",
       "11  Spheniscus magellanicus   3.40          42459.6        48.2065"
      ]
     },
     "execution_count": 190,
     "metadata": {},
     "output_type": "execute_result"
    }
   ],
   "source": [
    "##Translation of each sequence while calculating the molecular weight and\n",
    "##gc content and adding those values to their respective empty columns.\n",
    "\n",
    "for key, value in cytb_seqs.items():\n",
    "    #print(value)\n",
    "    aa_seq = translate_function(value)\n",
    "    mol_weight = compute_molecular_weight(aa_seq)\n",
    "    gc_cont = compute_gc_content(value)\n",
    "    #print(gc_cont)\n",
    "    #print(mol_weight)\n",
    "    \n",
    "    for i, j in penguins_df.iterrows():\n",
    "        if penguins_df.loc[i, \"species\"] == key:\n",
    "            penguins_df.loc[i, \"Molecular Weight\"] = mol_weight\n",
    "            penguins_df.loc[i, \"GC Content (%)\"] = gc_cont\n",
    "\n",
    "penguins_df"
   ]
  },
  {
   "cell_type": "markdown",
   "metadata": {},
   "source": [
    "---------------------------------\n",
    "## #8  ##\n"
   ]
  },
  {
   "cell_type": "code",
   "execution_count": 158,
   "metadata": {},
   "outputs": [],
   "source": [
    "## Plotting visualizations of the data\n",
    "import matplotlib.pyplot as plt; plt.rcdefaults()\n",
    "import numpy as np\n",
    "import matplotlib.pyplot as plt"
   ]
  },
  {
   "cell_type": "code",
   "execution_count": 182,
   "metadata": {},
   "outputs": [
    {
     "data": {
      "image/png": "[encoded data removed]",
      "text/plain": [
       "<Figure size 432x288 with 1 Axes>"
      ]
     },
     "metadata": {
      "needs_background": "light"
     },
     "output_type": "display_data"
    }
   ],
   "source": [
    "species = [\"Aptenodytes forsteri\",\"Aptenodytes patagonicus\",\"Eudyptes chrysocome\",\"Eudyptes chrysolophus\",\"Eudyptes sclateri\",\"Eudyptula minor\",\"Pygoscelis adeliae\",\"Pygoscelis antarctica\",\"Pygoscelis papua\",\"\tSpheniscus demersus\",\"Spheniscus humboldti\",\"Spheniscus magellanicus\"]\n",
    "#y_pos = np.arange(len(species))\n",
    "mass = [28,13.4,2.8,4.5,4.25,1.6,4.6,4.1,6.1,3.2,4.75,3.4]\n",
    "\n",
    "plt.bar(species, mass, align='center', alpha=0.5)\n",
    "plt.xticks(species, rotation = \"vertical\")\n",
    "plt.ylabel('Mass (g)')\n",
    "plt.xlabel('Species')\n",
    "plt.title('Penguin Species Mass')\n",
    "\n",
    "plt.show()"
   ]
  },
  {
   "cell_type": "markdown",
   "metadata": {},
   "source": [
    "The smallest penguin species is the Eudyptula minor.  The Eudyptula minor, or the \"little penguin\", is found on the coastlines of southern Australia and New Zealand, which is interesting because these are warmer climatets.   "
   ]
  },
  {
   "cell_type": "markdown",
   "metadata": {},
   "source": [
    "---------------------------------\n",
    "## #9  ##"
   ]
  },
  {
   "cell_type": "code",
   "execution_count": 193,
   "metadata": {},
   "outputs": [
    {
     "data": {
      "text/plain": [
       "<seaborn.axisgrid.FacetGrid at 0x246db5b0da0>"
      ]
     },
     "execution_count": 193,
     "metadata": {},
     "output_type": "execute_result"
    },
    {
     "data": {
      "image/png": "[encoded data removed]",
      "text/plain": [
       "<Figure size 360x360 with 1 Axes>"
      ]
     },
     "metadata": {
      "needs_background": "light"
     },
     "output_type": "display_data"
    }
   ],
   "source": [
    "sns.lmplot(\"GC Content (%)\", \"Molecular Weight\", data = penguins_df, fit_reg = False)"
   ]
  },
  {
   "cell_type": "markdown",
   "metadata": {},
   "source": [
    "---------------------------------\n",
    "## #10  ##"
   ]
  },
  {
   "cell_type": "code",
   "execution_count": 183,
   "metadata": {},
   "outputs": [],
   "source": [
    "penguins_df.to_csv(\"penguins_mass_cytb.csv\")"
   ]
  },
  {
   "cell_type": "markdown",
   "metadata": {},
   "source": [
    "---------------------------------\n",
    "## #11  ##"
   ]
  },
  {
   "cell_type": "code",
   "execution_count": 200,
   "metadata": {},
   "outputs": [
    {
     "data": {
      "text/plain": [
       "'C:\\\\Users\\\\mjkoh\\\\BCB546X-Fall2019\\\\course-files\\\\BCB546X-Fall2019\\\\assignments\\\\Python_Assignment'"
      ]
     },
     "execution_count": 200,
     "metadata": {},
     "output_type": "execute_result"
    }
   ],
   "source": [
    "pwd()"
   ]
  },
  {
   "cell_type": "code",
   "execution_count": null,
   "metadata": {},
   "outputs": [],
   "source": []
  }
 ],
 "metadata": {
  "kernelspec": {
   "display_name": "Python 3",
   "language": "python",
   "name": "python3"
  },
  "language_info": {
   "codemirror_mode": {
    "name": "ipython",
    "version": 3
   },
   "file_extension": ".py",
   "mimetype": "text/x-python",
   "name": "python",
   "nbconvert_exporter": "python",
   "pygments_lexer": "ipython3",
   "version": "3.6.9"
  }
 },
 "nbformat": 4,
 "nbformat_minor": 2
}
